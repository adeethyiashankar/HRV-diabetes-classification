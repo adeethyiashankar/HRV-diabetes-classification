{
  "nbformat": 4,
  "nbformat_minor": 0,
  "metadata": {
    "colab": {
      "name": "Prophet.ipynb",
      "provenance": [],
      "collapsed_sections": [],
      "include_colab_link": true
    },
    "kernelspec": {
      "display_name": "Python 3",
      "name": "python3"
    },
    "language_info": {
      "name": "python"
    }
  },
  "cells": [
    {
      "cell_type": "markdown",
      "metadata": {
        "id": "view-in-github",
        "colab_type": "text"
      },
      "source": [
        "<a href=\"https://colab.research.google.com/github/adeethyiashankar/HRV-diabetes-classification/blob/main/Forecast/Prophet.ipynb\" target=\"_parent\"><img src=\"https://colab.research.google.com/assets/colab-badge.svg\" alt=\"Open In Colab\"/></a>"
      ]
    },
    {
      "cell_type": "code",
      "metadata": {
        "colab": {
          "base_uri": "https://localhost:8080/"
        },
        "id": "qm5O6xbrlTr_",
        "outputId": "6dad3ffd-f9fe-40ae-a5dd-afd62ac81841"
      },
      "source": [
        "from fbprophet import Prophet\n",
        "from fbprophet.diagnostics import cross_validation, performance_metrics\n",
        "from fbprophet.plot import plot_cross_validation_metric\n",
        "\n",
        "import pandas as pd\n",
        "import numpy as np\n",
        "import itertools\n",
        "import math\n",
        "import statistics\n",
        "from sklearn.metrics import mean_squared_error\n",
        "from sklearn.preprocessing import MinMaxScaler\n",
        "from google.colab import drive\n",
        "\n",
        "import matplotlib.pyplot as plt\n",
        "\n",
        "data_path = 'gdrive/My Drive/Summer Research/Simulated CGM Data/'\n",
        "d1namo_data_path = 'gdrive/My Drive/Summer Research/Glucose/Diabetes/Cleaned Data/'\n",
        "figure_path = 'gdrive/My Drive/Summer Research/Figures/Prophet/'\n",
        "\n",
        "drive.mount('/content/gdrive')"
      ],
      "execution_count": null,
      "outputs": [
        {
          "output_type": "stream",
          "text": [
            "Drive already mounted at /content/gdrive; to attempt to forcibly remount, call drive.mount(\"/content/gdrive\", force_remount=True).\n"
          ],
          "name": "stdout"
        }
      ]
    },
    {
      "cell_type": "markdown",
      "metadata": {
        "id": "02pW6rQHmH2D"
      },
      "source": [
        "Data (returns t, y, data_total, train_size)"
      ]
    },
    {
      "cell_type": "code",
      "metadata": {
        "id": "PoQxR-xrmIvL"
      },
      "source": [
        "def data(c,fnum):\n",
        "  if c=='d1namo':\n",
        "    d1namo_data = pd.read_csv(d1namo_data_path+'glucose ('+str(fnum)+')'+'.csv', skiprows=0)\n",
        "    y = d1namo_data.iloc[:,2]\n",
        "    length = len(y)\n",
        "    data_total = int(length)\n",
        "    train_size = data_total-18\n",
        "    t = d1namo_data.iloc[:,0]+' '+d1namo_data.iloc[:,1]\n",
        "    X = pd.concat((t,y),axis=1)\n",
        "    X.columns = ['ds', 'y']\n",
        "    return X, data_total, train_size\n",
        "  elif c=='simulated':\n",
        "    data_total = 5*512\n",
        "    train_size = 4*512\n",
        "    date = pd.read_csv(data_path+'adult#'+f'{fnum:03d}'+'.csv', skiprows=0)\n",
        "    t = date.iloc[0:data_total,0]\n",
        "    li = []\n",
        "    for i in range(int(data_total/512)):\n",
        "      file = data_path+'Wavelet Transformed Data/'+'adult#'+f'{fnum:03d}'+'_'+f'{(i+1):03d}'+'.csv'\n",
        "      df = pd.read_csv(file, index_col=None, header=None)\n",
        "      li.append(df)\n",
        "    y = pd.concat(li, axis=0, ignore_index=True)\n",
        "    X = pd.concat((t,y),axis=1)\n",
        "    X.columns = ['ds', 'y']\n",
        "    return X, data_total, train_size\n",
        "  else:\n",
        "    raise ValueError('Parameter must be d1namo or simulated')"
      ],
      "execution_count": null,
      "outputs": []
    },
    {
      "cell_type": "markdown",
      "metadata": {
        "id": "Rkeegg7hnuTK"
      },
      "source": [
        "Fit data to Prophet"
      ]
    },
    {
      "cell_type": "code",
      "metadata": {
        "id": "w_kdx70ioLsW"
      },
      "source": [
        "def fitProphet(X, cps):\n",
        "  m = Prophet(changepoint_prior_scale=cps)\n",
        "  return m.fit(X)"
      ],
      "execution_count": null,
      "outputs": []
    },
    {
      "cell_type": "markdown",
      "metadata": {
        "id": "iY0BUWvsMyjS"
      },
      "source": [
        "Predict with Prophet"
      ]
    },
    {
      "cell_type": "code",
      "metadata": {
        "id": "olbSj_QVM06q"
      },
      "source": [
        "def predictProphet(prophet,periods):\n",
        "  future = prophet.make_future_dataframe(periods=data_total-train_size, freq='5min', include_history=True)\n",
        "  future.tail()\n",
        "  forecast = m.predict(future)\n",
        "  forecast[['ds', 'yhat', 'yhat_lower', 'yhat_upper']].tail()\n",
        "  return forecast"
      ],
      "execution_count": null,
      "outputs": []
    },
    {
      "cell_type": "markdown",
      "metadata": {
        "id": "g6IcGRCOfpEG"
      },
      "source": [
        "Run Prophet"
      ]
    },
    {
      "cell_type": "code",
      "metadata": {
        "id": "12jgFYwvZHuW"
      },
      "source": [
        "def runProphet(c,fnum):\n",
        "  X, data_total, train_size = data(c,fnum)\n",
        "  prophet = fitProphet(X, 0.1)\n",
        "  forecast = predictProphet(prophet,data_total-train_size)\n",
        "  fig1 = fit.plot(forecast)\n",
        "  fig2 = fit.plot_components(forecast)\n",
        "  return forecast, fig1, fig2"
      ],
      "execution_count": null,
      "outputs": []
    },
    {
      "cell_type": "markdown",
      "metadata": {
        "id": "u241qRjffqN9"
      },
      "source": [
        "Run Prophet with Cross-validation"
      ]
    },
    {
      "cell_type": "code",
      "metadata": {
        "id": "xvbE0lJSfstN"
      },
      "source": [
        "def CVProphet(c,fnum,period,horizon):\n",
        "  X, data_total, train_size = data(c,fnum)\n",
        "\n",
        "  param_grid = {'changepoint_prior_scale': [0.1]}\n",
        "  all_params = [dict(zip(param_grid.keys(), v)) for v in itertools.product(*param_grid.values())]\n",
        "  rmses = []\n",
        "  maes = []\n",
        "  stds = []\n",
        "  \n",
        "  for params in all_params:\n",
        "    m = Prophet(**params).fit(X)\n",
        "    df_cv = cross_validation(m, initial=str(3*train_size)+'min', period=str(period)+'min', horizon=str(horizon)+'min', parallel='processes')\n",
        "    df_p = performance_metrics(df_cv, rolling_window=1)\n",
        "    rmse_avg = sum(df_p['rmse'].values)/len(df_p['rmse'].values)\n",
        "    mae_avg = sum(df_p['mae'].values)/len(df_p['mae'].values)\n",
        "    rmses.append(rmse_avg)\n",
        "    maes.append(mae_avg)\n",
        "\n",
        "  fig_rmse = plot_cross_validation_metric(df_cv, metric='rmse')\n",
        "  fig_mae = plot_cross_validation_metric(df_cv, metric='mae')\n",
        "  tuning_results = pd.DataFrame(all_params, index=None)\n",
        "  tuning_results['rmse'] = rmses\n",
        "  tuning_results['mae'] = maes\n",
        "  return fig_rmse, fig_mae, tuning_results"
      ],
      "execution_count": null,
      "outputs": []
    },
    {
      "cell_type": "code",
      "metadata": {
        "id": "9m0CkAEDhx3_"
      },
      "source": [
        "def runCVProphetForD1NAMO(minutes_ahead):\n",
        "  d1namo_csv = pd.DataFrame(columns=range(2))\n",
        "  d1namo_csv.columns = ['rmse','mae']\n",
        "\n",
        "  for i in range(9):\n",
        "    f1, f2, t = CVProphet('d1namo',i+1,30,minutes_ahead)\n",
        "    f1.savefig(figure_path+'D1NAMO/'+str(minutes_ahead)+' min ahead/'+str(i+1)+' RMSE.png',\n",
        "               bbox_inches='tight')\n",
        "    f2.savefig(figure_path+'D1NAMO/'+str(minutes_ahead)+' min ahead/'+str(i+1)+' MAE.png',\n",
        "               bbox_inches='tight')\n",
        "    dt = {\n",
        "        'rmse':t['rmse'].loc[0],\n",
        "        'mae':t['mae'].loc[0]\n",
        "    }\n",
        "    d1namo_csv = d1namo_csv.append(dt, ignore_index=True)\n",
        "    plt.close(f1)\n",
        "    plt.close(f2)\n",
        "\n",
        "  d1namo_csv.to_csv(figure_path+'D1NAMO/D1NAMO '+str(minutes_ahead)+' min ahead.csv', index=False)"
      ],
      "execution_count": null,
      "outputs": []
    },
    {
      "cell_type": "code",
      "metadata": {
        "colab": {
          "base_uri": "https://localhost:8080/"
        },
        "id": "UG5XdgusAymf",
        "outputId": "4bfbf0e1-fcf0-49db-a8b2-9dc8ee634809"
      },
      "source": [
        "for i in [30,60,90]:\n",
        "  runCVProphetForD1NAMO(i)"
      ],
      "execution_count": null,
      "outputs": [
        {
          "output_type": "stream",
          "text": [
            "INFO:fbprophet:Disabling yearly seasonality. Run prophet with yearly_seasonality=True to override this.\n",
            "INFO:fbprophet:Disabling weekly seasonality. Run prophet with weekly_seasonality=True to override this.\n",
            "INFO:fbprophet:Making 95 forecasts with cutoffs between 2014-10-04 17:24:02 and 2014-10-06 16:24:02\n",
            "INFO:fbprophet:Applying in parallel with <concurrent.futures.process.ProcessPoolExecutor object at 0x7f0b32103f90>\n",
            "INFO:fbprophet:Disabling yearly seasonality. Run prophet with yearly_seasonality=True to override this.\n",
            "INFO:fbprophet:Disabling weekly seasonality. Run prophet with weekly_seasonality=True to override this.\n",
            "INFO:fbprophet:Making 72 forecasts with cutoffs between 2014-10-03 23:17:03 and 2014-10-05 10:47:03\n",
            "INFO:fbprophet:Applying in parallel with <concurrent.futures.process.ProcessPoolExecutor object at 0x7f0b307e43d0>\n",
            "INFO:fbprophet:Disabling yearly seasonality. Run prophet with yearly_seasonality=True to override this.\n",
            "INFO:fbprophet:Disabling weekly seasonality. Run prophet with weekly_seasonality=True to override this.\n",
            "INFO:fbprophet:Disabling daily seasonality. Run prophet with daily_seasonality=True to override this.\n",
            "INFO:fbprophet:Making 13 forecasts with cutoffs between 2014-10-01 17:33:16 and 2014-10-01 23:33:16\n",
            "INFO:fbprophet:Applying in parallel with <concurrent.futures.process.ProcessPoolExecutor object at 0x7f0b301e7e10>\n",
            "INFO:fbprophet:Disabling yearly seasonality. Run prophet with yearly_seasonality=True to override this.\n",
            "INFO:fbprophet:Disabling weekly seasonality. Run prophet with weekly_seasonality=True to override this.\n",
            "INFO:fbprophet:Making 66 forecasts with cutoffs between 2014-10-03 08:04:58 and 2014-10-04 16:34:58\n",
            "INFO:fbprophet:Applying in parallel with <concurrent.futures.process.ProcessPoolExecutor object at 0x7f0b34a97c90>\n",
            "INFO:fbprophet:Disabling yearly seasonality. Run prophet with yearly_seasonality=True to override this.\n",
            "INFO:fbprophet:Disabling weekly seasonality. Run prophet with weekly_seasonality=True to override this.\n",
            "INFO:fbprophet:Making 62 forecasts with cutoffs between 2014-10-03 08:10:14 and 2014-10-04 14:40:14\n",
            "INFO:fbprophet:Applying in parallel with <concurrent.futures.process.ProcessPoolExecutor object at 0x7f0b30004e50>\n",
            "INFO:fbprophet:Disabling yearly seasonality. Run prophet with yearly_seasonality=True to override this.\n",
            "INFO:fbprophet:Disabling weekly seasonality. Run prophet with weekly_seasonality=True to override this.\n",
            "INFO:fbprophet:Making 86 forecasts with cutoffs between 2014-10-04 13:25:08 and 2014-10-06 07:55:08\n",
            "INFO:fbprophet:Applying in parallel with <concurrent.futures.process.ProcessPoolExecutor object at 0x7f0b30009c10>\n",
            "INFO:fbprophet:Disabling yearly seasonality. Run prophet with yearly_seasonality=True to override this.\n",
            "INFO:fbprophet:Disabling weekly seasonality. Run prophet with weekly_seasonality=True to override this.\n",
            "INFO:fbprophet:Making 67 forecasts with cutoffs between 2014-10-03 12:40:00 and 2014-10-05 03:10:01\n",
            "INFO:fbprophet:Applying in parallel with <concurrent.futures.process.ProcessPoolExecutor object at 0x7f0b2fe70510>\n",
            "INFO:fbprophet:Disabling yearly seasonality. Run prophet with yearly_seasonality=True to override this.\n",
            "INFO:fbprophet:Disabling weekly seasonality. Run prophet with weekly_seasonality=True to override this.\n",
            "INFO:fbprophet:Making 77 forecasts with cutoffs between 2014-10-02 18:31:56 and 2014-10-04 08:31:56\n",
            "INFO:fbprophet:Applying in parallel with <concurrent.futures.process.ProcessPoolExecutor object at 0x7f0b32248c10>\n",
            "INFO:fbprophet:Disabling yearly seasonality. Run prophet with yearly_seasonality=True to override this.\n",
            "INFO:fbprophet:Disabling weekly seasonality. Run prophet with weekly_seasonality=True to override this.\n",
            "INFO:fbprophet:Disabling daily seasonality. Run prophet with daily_seasonality=True to override this.\n",
            "INFO:fbprophet:Making 9 forecasts with cutoffs between 2014-10-03 08:10:19 and 2014-10-03 12:10:19\n",
            "INFO:fbprophet:Applying in parallel with <concurrent.futures.process.ProcessPoolExecutor object at 0x7f0b2ff12290>\n",
            "INFO:fbprophet:Disabling yearly seasonality. Run prophet with yearly_seasonality=True to override this.\n",
            "INFO:fbprophet:Disabling weekly seasonality. Run prophet with weekly_seasonality=True to override this.\n",
            "INFO:fbprophet:Making 94 forecasts with cutoffs between 2014-10-04 17:24:02 and 2014-10-06 15:54:02\n",
            "INFO:fbprophet:Applying in parallel with <concurrent.futures.process.ProcessPoolExecutor object at 0x7f0b302e2350>\n",
            "INFO:fbprophet:Disabling yearly seasonality. Run prophet with yearly_seasonality=True to override this.\n",
            "INFO:fbprophet:Disabling weekly seasonality. Run prophet with weekly_seasonality=True to override this.\n",
            "INFO:fbprophet:Making 71 forecasts with cutoffs between 2014-10-03 23:17:03 and 2014-10-05 10:17:03\n",
            "INFO:fbprophet:Applying in parallel with <concurrent.futures.process.ProcessPoolExecutor object at 0x7f0b2fa4b790>\n",
            "INFO:fbprophet:Disabling yearly seasonality. Run prophet with yearly_seasonality=True to override this.\n",
            "INFO:fbprophet:Disabling weekly seasonality. Run prophet with weekly_seasonality=True to override this.\n",
            "INFO:fbprophet:Disabling daily seasonality. Run prophet with daily_seasonality=True to override this.\n",
            "INFO:fbprophet:Making 12 forecasts with cutoffs between 2014-10-01 17:33:16 and 2014-10-01 23:03:16\n",
            "INFO:fbprophet:Applying in parallel with <concurrent.futures.process.ProcessPoolExecutor object at 0x7f0b2f962050>\n",
            "INFO:fbprophet:Disabling yearly seasonality. Run prophet with yearly_seasonality=True to override this.\n",
            "INFO:fbprophet:Disabling weekly seasonality. Run prophet with weekly_seasonality=True to override this.\n",
            "INFO:fbprophet:Making 65 forecasts with cutoffs between 2014-10-03 08:04:58 and 2014-10-04 16:04:58\n",
            "INFO:fbprophet:Applying in parallel with <concurrent.futures.process.ProcessPoolExecutor object at 0x7f0b2fd44a90>\n",
            "INFO:fbprophet:Disabling yearly seasonality. Run prophet with yearly_seasonality=True to override this.\n",
            "INFO:fbprophet:Disabling weekly seasonality. Run prophet with weekly_seasonality=True to override this.\n",
            "INFO:fbprophet:Making 61 forecasts with cutoffs between 2014-10-03 08:10:14 and 2014-10-04 14:10:14\n",
            "INFO:fbprophet:Applying in parallel with <concurrent.futures.process.ProcessPoolExecutor object at 0x7f0b2fcbf350>\n",
            "INFO:fbprophet:Disabling yearly seasonality. Run prophet with yearly_seasonality=True to override this.\n",
            "INFO:fbprophet:Disabling weekly seasonality. Run prophet with weekly_seasonality=True to override this.\n",
            "INFO:fbprophet:Making 85 forecasts with cutoffs between 2014-10-04 13:25:08 and 2014-10-06 07:25:08\n",
            "INFO:fbprophet:Applying in parallel with <concurrent.futures.process.ProcessPoolExecutor object at 0x7f0b2f70ab90>\n",
            "INFO:fbprophet:Disabling yearly seasonality. Run prophet with yearly_seasonality=True to override this.\n",
            "INFO:fbprophet:Disabling weekly seasonality. Run prophet with weekly_seasonality=True to override this.\n",
            "INFO:fbprophet:Making 66 forecasts with cutoffs between 2014-10-03 12:40:00 and 2014-10-05 02:40:01\n",
            "INFO:fbprophet:Applying in parallel with <concurrent.futures.process.ProcessPoolExecutor object at 0x7f0b301ab550>\n",
            "INFO:fbprophet:Disabling yearly seasonality. Run prophet with yearly_seasonality=True to override this.\n",
            "INFO:fbprophet:Disabling weekly seasonality. Run prophet with weekly_seasonality=True to override this.\n",
            "INFO:fbprophet:Making 76 forecasts with cutoffs between 2014-10-02 18:31:56 and 2014-10-04 08:01:56\n",
            "INFO:fbprophet:Applying in parallel with <concurrent.futures.process.ProcessPoolExecutor object at 0x7f0b2f48d750>\n",
            "INFO:fbprophet:Disabling yearly seasonality. Run prophet with yearly_seasonality=True to override this.\n",
            "INFO:fbprophet:Disabling weekly seasonality. Run prophet with weekly_seasonality=True to override this.\n",
            "INFO:fbprophet:Disabling daily seasonality. Run prophet with daily_seasonality=True to override this.\n",
            "INFO:fbprophet:Making 9 forecasts with cutoffs between 2014-10-03 07:40:19 and 2014-10-03 11:40:19\n",
            "INFO:fbprophet:Applying in parallel with <concurrent.futures.process.ProcessPoolExecutor object at 0x7f0b2fb06c90>\n",
            "INFO:fbprophet:Disabling yearly seasonality. Run prophet with yearly_seasonality=True to override this.\n",
            "INFO:fbprophet:Disabling weekly seasonality. Run prophet with weekly_seasonality=True to override this.\n",
            "INFO:fbprophet:Making 93 forecasts with cutoffs between 2014-10-04 17:24:02 and 2014-10-06 15:24:02\n",
            "INFO:fbprophet:Applying in parallel with <concurrent.futures.process.ProcessPoolExecutor object at 0x7f0b2ffc1cd0>\n",
            "INFO:fbprophet:Disabling yearly seasonality. Run prophet with yearly_seasonality=True to override this.\n",
            "INFO:fbprophet:Disabling weekly seasonality. Run prophet with weekly_seasonality=True to override this.\n",
            "INFO:fbprophet:Making 70 forecasts with cutoffs between 2014-10-03 23:17:03 and 2014-10-05 09:47:03\n",
            "INFO:fbprophet:Applying in parallel with <concurrent.futures.process.ProcessPoolExecutor object at 0x7f0b2f63ec10>\n",
            "INFO:fbprophet:Disabling yearly seasonality. Run prophet with yearly_seasonality=True to override this.\n",
            "INFO:fbprophet:Disabling weekly seasonality. Run prophet with weekly_seasonality=True to override this.\n",
            "INFO:fbprophet:Disabling daily seasonality. Run prophet with daily_seasonality=True to override this.\n",
            "INFO:fbprophet:Making 11 forecasts with cutoffs between 2014-10-01 17:33:16 and 2014-10-01 22:33:16\n",
            "INFO:fbprophet:Applying in parallel with <concurrent.futures.process.ProcessPoolExecutor object at 0x7f0b2f143410>\n",
            "INFO:fbprophet:Disabling yearly seasonality. Run prophet with yearly_seasonality=True to override this.\n",
            "INFO:fbprophet:Disabling weekly seasonality. Run prophet with weekly_seasonality=True to override this.\n",
            "INFO:fbprophet:Making 64 forecasts with cutoffs between 2014-10-03 08:04:58 and 2014-10-04 15:34:58\n",
            "INFO:fbprophet:Applying in parallel with <concurrent.futures.process.ProcessPoolExecutor object at 0x7f0b2f558f90>\n",
            "INFO:fbprophet:Disabling yearly seasonality. Run prophet with yearly_seasonality=True to override this.\n",
            "INFO:fbprophet:Disabling weekly seasonality. Run prophet with weekly_seasonality=True to override this.\n",
            "INFO:fbprophet:Making 60 forecasts with cutoffs between 2014-10-03 08:10:14 and 2014-10-04 13:40:14\n",
            "INFO:fbprophet:Applying in parallel with <concurrent.futures.process.ProcessPoolExecutor object at 0x7f0b2f0d2190>\n",
            "INFO:fbprophet:Disabling yearly seasonality. Run prophet with yearly_seasonality=True to override this.\n",
            "INFO:fbprophet:Disabling weekly seasonality. Run prophet with weekly_seasonality=True to override this.\n",
            "INFO:fbprophet:Making 84 forecasts with cutoffs between 2014-10-04 13:25:08 and 2014-10-06 06:55:08\n",
            "INFO:fbprophet:Applying in parallel with <concurrent.futures.process.ProcessPoolExecutor object at 0x7f0b2eed9f50>\n",
            "INFO:fbprophet:Disabling yearly seasonality. Run prophet with yearly_seasonality=True to override this.\n",
            "INFO:fbprophet:Disabling weekly seasonality. Run prophet with weekly_seasonality=True to override this.\n",
            "INFO:fbprophet:Making 65 forecasts with cutoffs between 2014-10-03 12:40:00 and 2014-10-05 02:10:01\n",
            "INFO:fbprophet:Applying in parallel with <concurrent.futures.process.ProcessPoolExecutor object at 0x7f0b2f09b5d0>\n",
            "INFO:fbprophet:Disabling yearly seasonality. Run prophet with yearly_seasonality=True to override this.\n",
            "INFO:fbprophet:Disabling weekly seasonality. Run prophet with weekly_seasonality=True to override this.\n",
            "INFO:fbprophet:Making 75 forecasts with cutoffs between 2014-10-02 18:31:56 and 2014-10-04 07:31:56\n",
            "INFO:fbprophet:Applying in parallel with <concurrent.futures.process.ProcessPoolExecutor object at 0x7f0b2ecb8f50>\n",
            "INFO:fbprophet:Disabling yearly seasonality. Run prophet with yearly_seasonality=True to override this.\n",
            "INFO:fbprophet:Disabling weekly seasonality. Run prophet with weekly_seasonality=True to override this.\n",
            "INFO:fbprophet:Disabling daily seasonality. Run prophet with daily_seasonality=True to override this.\n",
            "INFO:fbprophet:Making 9 forecasts with cutoffs between 2014-10-03 07:10:19 and 2014-10-03 11:10:19\n",
            "INFO:fbprophet:Applying in parallel with <concurrent.futures.process.ProcessPoolExecutor object at 0x7f0b2ec6ec50>\n"
          ],
          "name": "stderr"
        }
      ]
    },
    {
      "cell_type": "code",
      "metadata": {
        "id": "PkBJ4y0Cm9Ht"
      },
      "source": [
        "def runCVProphetForSimulated(minutes_ahead):\n",
        "  simulated_csv = pd.DataFrame(columns=range(2))\n",
        "  simulated_csv.columns = ['rmse','mae']\n",
        "\n",
        "  for i in range(20):\n",
        "    if i != 11:\n",
        "      f1, f2, t = CVProphet('simulated',i+1,30,minutes_ahead)\n",
        "      f1.savefig(figure_path+'Simulated/'+str(minutes_ahead)+' min ahead/'+str(i+1)+' RMSE.png')\n",
        "      f2.savefig(figure_path+'Simulated/'+str(minutes_ahead)+' min ahead/'+str(i+1)+' MAE.png')\n",
        "      dt = {\n",
        "        'rmse':t['rmse'].loc[0],\n",
        "        'mae':t['mae'].loc[0]\n",
        "      }\n",
        "      simulated_csv = simulated_csv.append(dt, ignore_index=True)\n",
        "      plt.close(f1)\n",
        "      plt.close(f2)\n",
        "\n",
        "  simulated_csv.to_csv(figure_path+'Simulated/Simulated '+str(minutes_ahead)+' min ahead.csv', index=False)"
      ],
      "execution_count": null,
      "outputs": []
    }
  ]
}